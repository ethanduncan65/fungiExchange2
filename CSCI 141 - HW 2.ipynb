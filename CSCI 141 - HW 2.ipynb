{
 "cells": [
  {
   "cell_type": "markdown",
   "metadata": {},
   "source": [
    "# The Fungi Exchange: if, elif, and else statements\n",
    "\n",
    "![](https://static.wixstatic.com/media/a02b4d_2f962046d82a4c1c8fc7f8c237a53640~mv2.png/v1/fill/w_600,h_638,al_c,usm_0.66_1.00_0.01/a02b4d_2f962046d82a4c1c8fc7f8c237a53640~mv2.png)"
   ]
  },
  {
   "cell_type": "code",
   "execution_count": 19,
   "metadata": {},
   "outputs": [
    {
     "name": "stdout",
     "output_type": "stream",
     "text": [
      "How many shitake mushrooms did you collect on your trek: 13\n",
      "How many portabella mushrooms did you collect on your trek: 9\n",
      "You are meandering through the forest and stumble upon a soup chef!\n",
      "The soup chef asks you, how many shitake mushrooms would you like to trade? 12\n",
      "How many portabella mushrooms would you like to trade? 8\n",
      "The chef would like to make you an offer of 8 rubies.\n",
      "Do you want to take the deal?(y or n): y\n",
      "Congradulations! You have earned 8 rubies. You also have 1 shitake and 1 portabella mushrooms remaining.\n"
     ]
    }
   ],
   "source": [
    "# Author : Ethan Duncan\n",
    "# Description : Hw 2, CSCI 141\n",
    "# Date : April 2018\n",
    "\n",
    "# Line: 1\n",
    "# Prompt the player to specify how many shitake mushrooms were found and picked up\n",
    "shitakeCollected = int(input(\"How many shitake mushrooms did you collect on your trek: \"))\n",
    "\n",
    "# Line: 2 \n",
    "# Prompt the player to specify how many portabella mushrooms were found and picked up\n",
    "portabellaCollected = int(input(\"How many portabella mushrooms did you collect on your trek: \"))\n",
    "\n",
    "# Line: 3 \n",
    "# Include a narrative of how the player is meandering through the forest\n",
    "print(\"You are meandering through the forest and stumble upon a soup chef!\")\n",
    "\n",
    "# Lines: 4-6\n",
    "# The chef asks the player how many of the shitake and portabella mushrooms they want to exchange for rubies\n",
    "shitakeTrade = int(input(\"The soup chef asks you, how many shitake mushrooms would you like to trade? \"))\n",
    "portabellaTrade = int(input(\"How many portabella mushrooms would you like to trade? \"))\n",
    "totalTrade = (shitakeTrade + portabellaTrade)\n",
    "\n",
    "# Lines: 7-17\n",
    "# An if statement is executed to determine if the user wants to make a valid trade\n",
    "# If valid trade is propsed, Lines 8-17 will be executed followed by Lines 18-25\n",
    "# If the user does not propose a valid trade, Lines 8-25 will be skipped and program will move on to Line 26 \n",
    "if(((shitakeTrade <= shitakeCollected) and (portabellaTrade <= portabellaCollected)) and (totalTrade != 0)):\n",
    "    \n",
    "    #\n",
    "    if((shitakeTrade < 10) and (portabellaTrade < 5)):\n",
    "        rubiesOffered = (shitakeTrade * 2)\n",
    "    \n",
    "    #\n",
    "    elif((shitakeTrade < 10) and (portabellaTrade >= 5)):\n",
    "        rubiesOffered = (portabellaTrade * 3)\n",
    "    \n",
    "    #\n",
    "    elif((((shitakeTrade % 12) == 0) and ((shitakeTrade % 24) != 0)) and (portabellaTrade >= 20)):\n",
    "        rubiesOffered = (portabellaTrade * 4)\n",
    "    \n",
    "    #\n",
    "    elif((((shitakeTrade % 12) == 0) and ((shitakeTrade % 24) != 0)) and (portabellaTrade < 20)):\n",
    "        rubiesOffered = (portabellaTrade)\n",
    "    \n",
    "    #\n",
    "    else:\n",
    "        rubiesOffered = (shitakeTrade * 5)\n",
    "    \n",
    "    # Line: 18-19\n",
    "    # Present the chef's offer to the user and ask if they would like to take the deal\n",
    "    print(\"The chef would like to make you an offer of\", rubiesOffered, \"rubies.\")\n",
    "    tradePreference = input(\"Do you want to take the deal?(y or n): \")\n",
    "\n",
    "    # Lines: 20-25\n",
    "    # Create an if statement to determine the number of mushrooms and rubies (if deal was made) the user walks away with\n",
    "    if(tradePreference == \"y\"):\n",
    "        shitakeRemaining = (shitakeCollected - shitakeTrade)\n",
    "        portabellaRemaining = (portabellaCollected - portabellaTrade)\n",
    "        print(\"Congradulations! You have earned\", rubiesOffered, \"rubies. You also have\", shitakeRemaining, \"shitake and\", portabellaRemaining, \"portabella mushrooms remaining.\")\n",
    "    else:\n",
    "        print(\"That is unfortunate, but the chef respects your choice. You have\", shitakeCollected, \"shitake and\", portabellaCollected, \"portabella mushrooms remaining.\")\n",
    "\n",
    "# Lines: 26-27\n",
    "# If user wants to trade more mushrooms than they have collected, the chef will end the conversation\n",
    "elif((shitakeTrade > shitakeCollected) or (portabellaTrade > portabellaCollected)):\n",
    "    print(\"The chef sighs and says, 'this conversation is over; no deal!'\")\n",
    "\n",
    "# Lines: 28-29\n",
    "# If user wants to trade zero mushrooms, or enters any other value than instructed to do so, the chef will also end the conversation\n",
    "else:\n",
    "    print(\"The chef laughs and says, 'I do not deal with imaginary mushrooms'\")"
   ]
  },
  {
   "cell_type": "code",
   "execution_count": null,
   "metadata": {},
   "outputs": [],
   "source": []
  }
 ],
 "metadata": {
  "kernelspec": {
   "display_name": "Python 3",
   "language": "python",
   "name": "python3"
  },
  "language_info": {
   "codemirror_mode": {
    "name": "ipython",
    "version": 3
   },
   "file_extension": ".py",
   "mimetype": "text/x-python",
   "name": "python",
   "nbconvert_exporter": "python",
   "pygments_lexer": "ipython3",
   "version": "3.6.4"
  }
 },
 "nbformat": 4,
 "nbformat_minor": 2
}
